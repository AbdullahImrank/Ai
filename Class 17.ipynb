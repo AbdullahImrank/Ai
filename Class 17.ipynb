{
 "cells": [
  {
   "cell_type": "code",
   "execution_count": 1,
   "metadata": {},
   "outputs": [
    {
     "name": "stdout",
     "output_type": "stream",
     "text": [
      "The size of my shirt is  33\n",
      "The text i want to write on it is  APNA TIME AYEGA\n"
     ]
    }
   ],
   "source": [
    "def shirt(size,text='Apna time ayega'):\n",
    "    print(\"The size of my shirt is \",size)\n",
    "    print('The text i want to write on it is ',text.upper())\n",
    "shirt(33)    "
   ]
  },
  {
   "cell_type": "code",
   "execution_count": 3,
   "metadata": {},
   "outputs": [
    {
     "ename": "SyntaxError",
     "evalue": "invalid syntax (<ipython-input-3-3c420ac9db51>, line 2)",
     "output_type": "error",
     "traceback": [
      "\u001b[1;36m  File \u001b[1;32m\"<ipython-input-3-3c420ac9db51>\"\u001b[1;36m, line \u001b[1;32m2\u001b[0m\n\u001b[1;33m    person('fname: ':first_name , 'lname: ':last_name , 'Age':age , 'Gender':gender)\u001b[0m\n\u001b[1;37m                    ^\u001b[0m\n\u001b[1;31mSyntaxError\u001b[0m\u001b[1;31m:\u001b[0m invalid syntax\n"
     ]
    }
   ],
   "source": [
    "def human(first_name , last_name , age , gender):\n",
    "    person('fname: ':first_name , 'lname: ':last_name , 'Age':age , 'Gender':gender)\n",
    "    for key,value in person.items():\n",
    "        print(key,value)\n",
    "human('ALi','Ahmed',23,'Male')        "
   ]
  },
  {
   "cell_type": "code",
   "execution_count": 16,
   "metadata": {},
   "outputs": [
    {
     "name": "stdout",
     "output_type": "stream",
     "text": [
      "Shehzad Ahsan\n"
     ]
    }
   ],
   "source": [
    "def form(fname,lname,mname=''):\n",
    "    #print('My first name is ',First_name)\n",
    "    if mname:\n",
    "        full_name=fname + \" \" + mname + ' '+ lname\n",
    "    else:\n",
    "        full_name=fname + ' ' + lname\n",
    "    return full_name\n",
    "a = form('Shehzad' , 'Ahsan')\n",
    "print(a)\n",
    "        #print(First_name,Last_name)\n",
    "    #else:\n",
    "     #   print('My middle name is ' ,Middle_name)\n",
    "    #print('my last name is ' ,Last_name)    \n",
    "#form('Abdullah','-','Kasmani')        \n",
    "         "
   ]
  },
  {
   "cell_type": "code",
   "execution_count": 17,
   "metadata": {},
   "outputs": [],
   "source": [
    "def F(Fname,Lname,age=22,gender='Male',Address='Dhoraji',Mname=''):\n",
    "    print('First_name is ',Fname)\n",
    "    print('Last_name is ',Lname)\n",
    "    print('Middle_name is ',Mname)\n",
    "    print('Age is ',age)\n",
    "    print('Gender is ',gender)\n",
    "    print('Address is ',Address)\n"
   ]
  },
  {
   "cell_type": "code",
   "execution_count": 18,
   "metadata": {},
   "outputs": [],
   "source": [
    "def personinformation(firstname,lastname,middlenam='',age=\"\",address=\"\"):\n",
    "    result=\"name: \"\n",
    "    "
   ]
  },
  {
   "cell_type": "code",
   "execution_count": null,
   "metadata": {},
   "outputs": [],
   "source": [
    "def pizza(*topping):\n",
    "    print('*****Here is your pizza******')\n",
    "    for toppings in topping:\n",
    "        print(toppings)\n",
    "pizza^&(*(&&*^&*%&^%$^%$$%$%$%$%$%$$%$%$%$%$%$%$%$%$%$%$%$%$%$%$%$%$%%%$%$%$%$%$^%$%$%$%$*&*&*&*&*&*&*&*&*&*&*&*&*&*&*&*&*&*&*&&^&^&^&^&^&^&^&^&^&^&^&^&^&^&^&&^&&^^&^$%$%$%%$%$%$%$%$%$%%$$%%%$%E$))        "
   ]
  }
 ],
 "metadata": {
  "kernelspec": {
   "display_name": "Python 3",
   "language": "python",
   "name": "python3"
  },
  "language_info": {
   "codemirror_mode": {
    "name": "ipython",
    "version": 3
   },
   "file_extension": ".py",
   "mimetype": "text/x-python",
   "name": "python",
   "nbconvert_exporter": "python",
   "pygments_lexer": "ipython3",
   "version": "3.7.1"
  }
 },
 "nbformat": 4,
 "nbformat_minor": 2
}
