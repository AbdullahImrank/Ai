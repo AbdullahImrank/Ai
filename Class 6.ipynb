{
 "cells": [
  {
   "cell_type": "code",
   "execution_count": 19,
   "metadata": {
    "scrolled": true
   },
   "outputs": [
    {
     "name": "stdout",
     "output_type": "stream",
     "text": [
      "\t*****ATM MACHINE******\n",
      "Enter your ATM pin:4564\n",
      "Do you want to Withdraw or Deposit Cash:Deposit\n",
      "How much cash you want to deposit:14500\n",
      "Your amount is sucessfully deposited.\n",
      "Your new balance is: 17000\n"
     ]
    }
   ],
   "source": [
    "print (\"\\t*****ATM MACHINE******\")\n",
    "Balance=2500\n",
    "Pin=int(input(\"Enter your ATM pin:\"))\n",
    "if Pin==4564:\n",
    "    \n",
    "    User=input(\"Do you want to Withdraw or Deposit Cash:\")\n",
    "    if User=='Withdraw':\n",
    "        How_much_cash=int(input(\"How much cash you want to withdraw:\"))\n",
    "        if How_much_cash >=2501:\n",
    "            print (\"Amount is insufficient to withdraw!!\")        \n",
    "        else:\n",
    "            new_balance=Balance-How_much_cash\n",
    "            print (\"Your amount is successfully withdrawn.\\nYour new balance is:\",new_balance)\n",
    "    if User==\"Deposit\":\n",
    "        Cash_Deposit=int(input(\"How much cash you want to deposit:\"))\n",
    "        new_balance1=Balance+Cash_Deposit\n",
    "    \n",
    "        print(\"Your amount is sucessfully deposited.\\nYour new balance is:\",new_balance1)\n",
    "\n",
    "else:\n",
    "    print('Sorry!!You have entered the wrong pin!!\\nTry Again!')\n",
    "    "
   ]
  },
  {
   "cell_type": "code",
   "execution_count": 1,
   "metadata": {},
   "outputs": [
    {
     "name": "stdout",
     "output_type": "stream",
     "text": [
      "Toyota\n"
     ]
    }
   ],
   "source": [
    "Cars = [\"Honda\" , \"Audi\" , \"Suzuki\" , \"Toyota\" , \"Mitsubishi\" , \"Dihatsu\"]\n",
    "print(Cars[3])\n"
   ]
  },
  {
   "cell_type": "code",
   "execution_count": 2,
   "metadata": {},
   "outputs": [
    {
     "name": "stdout",
     "output_type": "stream",
     "text": [
      "Honda\n",
      "Toyota\n",
      "Dihatsu\n",
      "Dihatsu\n",
      "Suzuki\n",
      "Honda\n"
     ]
    }
   ],
   "source": [
    "Cars = [\"Honda\" , \"Audi\" , \"Suzuki\" , \"Toyota\" , \"Mitsubishi\" , \"Dihatsu\"]\n",
    "print(Cars[0])\n",
    "print(Cars[3])\n",
    "print(Cars[5])\n",
    "print(Cars[-1])\n",
    "print(Cars[-4])\n",
    "print(Cars[-6])\n",
    "\n",
    "\n"
   ]
  },
  {
   "cell_type": "code",
   "execution_count": 3,
   "metadata": {},
   "outputs": [
    {
     "name": "stdout",
     "output_type": "stream",
     "text": [
      "['Honda', 'Audi', 'Suzuki', 'Toyota', 'Mitsubishi', 'Dihatsu']\n"
     ]
    }
   ],
   "source": [
    "Cars = [\"Honda\" , \"Audi\" , \"Suzuki\" , \"Toyota\" , \"Mitsubishi\" , \"Dihatsu\"]\n",
    "print(Cars)"
   ]
  },
  {
   "cell_type": "code",
   "execution_count": 4,
   "metadata": {},
   "outputs": [
    {
     "name": "stdout",
     "output_type": "stream",
     "text": [
      "['Honda', 'Audi', 'Suzuki', 'Toyota', 'Mitsubishi', 'Dihatsu']\n"
     ]
    }
   ],
   "source": [
    "print(Cars)"
   ]
  },
  {
   "cell_type": "code",
   "execution_count": 5,
   "metadata": {},
   "outputs": [
    {
     "name": "stdout",
     "output_type": "stream",
     "text": [
      "['Honda', 'Audi', 'Mercedes Benz', 'Toyota', 'Mitsubishi', 'Dihatsu']\n"
     ]
    }
   ],
   "source": [
    "Cars[2] = \"Mercedes Benz\"\n",
    "print (Cars)\n"
   ]
  },
  {
   "cell_type": "code",
   "execution_count": 28,
   "metadata": {},
   "outputs": [
    {
     "ename": "IndexError",
     "evalue": "list assignment index out of range",
     "output_type": "error",
     "traceback": [
      "\u001b[1;31m---------------------------------------------------------------------------\u001b[0m",
      "\u001b[1;31mIndexError\u001b[0m                                Traceback (most recent call last)",
      "\u001b[1;32m<ipython-input-28-a5d2e42b8f78>\u001b[0m in \u001b[0;36m<module>\u001b[1;34m\u001b[0m\n\u001b[1;32m----> 1\u001b[1;33m \u001b[0mCars\u001b[0m\u001b[1;33m[\u001b[0m\u001b[1;36m5\u001b[0m\u001b[1;33m]\u001b[0m \u001b[1;33m=\u001b[0m \u001b[1;34m\"Ferrari\"\u001b[0m\u001b[1;33m\u001b[0m\u001b[1;33m\u001b[0m\u001b[0m\n\u001b[0m\u001b[0;32m      2\u001b[0m \u001b[0mprint\u001b[0m \u001b[1;33m(\u001b[0m\u001b[0mCars\u001b[0m\u001b[1;33m)\u001b[0m\u001b[1;33m\u001b[0m\u001b[1;33m\u001b[0m\u001b[0m\n",
      "\u001b[1;31mIndexError\u001b[0m: list assignment index out of range"
     ]
    }
   ],
   "source": [
    "Cars[5] = \"Ferrari\"\n",
    "print (Cars)"
   ]
  },
  {
   "cell_type": "code",
   "execution_count": 7,
   "metadata": {},
   "outputs": [
    {
     "name": "stdout",
     "output_type": "stream",
     "text": [
      "['Honda', 'Audi', 'Mercedes Benz', 'Toyota', 'Mitsubishi', 'Ferrari', 'Dihatsu']\n"
     ]
    }
   ],
   "source": [
    "Cars.append(\"Dihatsu\")\n",
    "print(Cars)"
   ]
  },
  {
   "cell_type": "code",
   "execution_count": 14,
   "metadata": {},
   "outputs": [
    {
     "name": "stdout",
     "output_type": "stream",
     "text": [
      "['Honda', 'Audi', 'Mercedes Benz', 'Toyota', 'Mitsubishi']\n",
      "Ferrari\n"
     ]
    }
   ],
   "source": [
    "popped_cars= Cars.pop()\n",
    "print(Cars)\n",
    "print(popped_cars)\n"
   ]
  },
  {
   "cell_type": "markdown",
   "metadata": {},
   "source": [
    "step1: make a list of tasks\n",
    "step2: make an empty list of task done\n",
    "step3: ask user if you have done the task\n",
    "        1)if yes remove the task from list and add in empty list\n",
    "        2)if no print a message that \"Plz finish the task\"\n"
   ]
  },
  {
   "cell_type": "markdown",
   "metadata": {},
   "source": [
    "step1: make a list of tasks\n",
    "step2: make an empty list of task done \n",
    "step3: ask user if you have done the task \n",
    "    1)if yes remove the task from list and add in empty list \n",
    "    2)if no print a message that \"Plz finish the task\"\n",
    "\n"
   ]
  },
  {
   "cell_type": "code",
   "execution_count": 23,
   "metadata": {},
   "outputs": [],
   "source": [
    "task = [\"hi\" , \"Bye\" , \"Hey\" , \"OHO\"]\n",
    "task_done= []"
   ]
  },
  {
   "cell_type": "code",
   "execution_count": 27,
   "metadata": {},
   "outputs": [
    {
     "name": "stdout",
     "output_type": "stream",
     "text": [
      "Have you done the task:[Y/N]Y\n",
      "your completed tasks are ['hi', 'Bye']\n",
      "your ramaining tasks are ['Hey', 'OHO']\n"
     ]
    }
   ],
   "source": [
    "\n",
    "Ask=input(\"Have you done the task:[Y/N]\")\n",
    "if Ask=='Y':\n",
    "    x=task.pop(0)\n",
    "    task_done.append(x)\n",
    "    print(\"your completed tasks are\",task_done)\n",
    "    print('your ramaining tasks are',task)\n",
    "if Ask == 'N':\n",
    "    print('Please complete your tasks')\n",
    "    "
   ]
  },
  {
   "cell_type": "code",
   "execution_count": null,
   "metadata": {},
   "outputs": [],
   "source": []
  },
  {
   "cell_type": "code",
   "execution_count": null,
   "metadata": {},
   "outputs": [],
   "source": []
  }
 ],
 "metadata": {
  "kernelspec": {
   "display_name": "Python 3",
   "language": "python",
   "name": "python3"
  },
  "language_info": {
   "codemirror_mode": {
    "name": "ipython",
    "version": 3
   },
   "file_extension": ".py",
   "mimetype": "text/x-python",
   "name": "python",
   "nbconvert_exporter": "python",
   "pygments_lexer": "ipython3",
   "version": "3.7.1"
  }
 },
 "nbformat": 4,
 "nbformat_minor": 2
}
