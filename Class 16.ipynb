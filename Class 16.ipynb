{
 "cells": [
  {
   "cell_type": "code",
   "execution_count": null,
   "metadata": {},
   "outputs": [],
   "source": [
    "def couples(hname,wname):\n",
    "    print(\"The name of husband is \",hname,\"and the name of wife is \",wname,\".\")\n",
    "    couples(hname=Imran,wname=Afsheen)"
   ]
  },
  {
   "cell_type": "code",
   "execution_count": null,
   "metadata": {},
   "outputs": [],
   "source": [
    "couples(hname=\"Imran\",wname=\"Afsheen\")"
   ]
  },
  {
   "cell_type": "code",
   "execution_count": null,
   "metadata": {},
   "outputs": [],
   "source": [
    "def couples(hname,wname):\n",
    "    print(\"The name of husband is \",hname,\"and the name of wife is \",wname,\".\")\n",
    "couples(wname='Afsheen',hname='Imran')"
   ]
  },
  {
   "cell_type": "code",
   "execution_count": null,
   "metadata": {},
   "outputs": [
    {
     "name": "stdout",
     "output_type": "stream",
     "text": [
      "Which action do you want to perfrom: +\n",
      "Enter number: 5\n",
      "Enter number: 10\n",
      "15\n",
      "Which action do you want to perfrom: q\n"
     ]
    }
   ],
   "source": [
    "from IPython.display import clear_output\n",
    "def calculator():\n",
    "    \n",
    "    action = ''\n",
    "    while action != 'q':\n",
    "        clear_output\n",
    "        \n",
    "        action = input(\"Which action do you want to perfrom: \")\n",
    "        \n",
    "        num1=int(input(\"Enter number: \"))\n",
    "        num2=int(input('Enter number: '))\n",
    "        #action = input(\"Which action do you want to perfrom: \")\n",
    "        #action = input(\"Enter q to quit\")\n",
    "        \n",
    "        \n",
    "    \n",
    "        if action ==\"+\":\n",
    "            Add=num1+num2\n",
    "            print(Add)\n",
    "        \n",
    "        elif action =='-':\n",
    "            Subtract=num1 - num2\n",
    "            print(Subtract)\n",
    "            \n",
    "        elif action=='*':\n",
    "            Multiply=num1*num2\n",
    "            print(Multiply)\n",
    "            \n",
    "        elif action==\"/\":\n",
    "            Divide=num1/num2\n",
    "            print(Divide)\n",
    "        elif action==\"q\":\n",
    "            break\n",
    "        \n",
    "            \n",
    "        \n",
    "            \n",
    "            \n",
    "            \n",
    "            \n",
    "calculator()            \n",
    "    \n",
    "    \n",
    "             \n",
    "             "
   ]
  },
  {
   "cell_type": "code",
   "execution_count": null,
   "metadata": {},
   "outputs": [],
   "source": [
    "def calculator():\n",
    "    \n",
    "    while True:\n",
    "        perform = input(\"WHICH ACTION DO YOU WANT TO PERFROM\")\n",
    "        num1 = int(input(\"Enter First number: \"))Jupyter Notebook\n",
    "\n",
    "        num2 = int(input(\"Enter second number: \"))\n",
    "        \n",
    "        if perform == \"+\":\n",
    "            add = num1 + num2\n",
    "            print(\"The sum of the number is \" , add)\n",
    "            \n",
    "        elif perform == \"-\":\n",
    "            sub=num1-num2\n",
    "            print(\"sub\")\n",
    "        elif perform == \"*\":\n",
    "            mul=num1-num2\n",
    "            print(\"mul\")\n",
    "        elif perform == \"/\":\n",
    "            div=num1-num2\n",
    "            print(\"div\")    \n",
    "            \n",
    "        \n",
    "        \n",
    "        \n",
    "        \n",
    "        \n",
    "        \n",
    "        \n",
    "        \n",
    "        \n",
    "        \n",
    "        \n",
    "        \n",
    "        \n",
    "        \n",
    "        \n",
    "        \n",
    "        \n",
    "        \n",
    "        \n",
    "        \n",
    "        \n",
    "        \n",
    "        \n",
    "        \n",
    "        \n",
    "        \n",
    "        \n",
    "        \n",
    "        \n",
    "        \n",
    "        \n",
    "        \n",
    "        \n",
    "        "
   ]
  }
 ],
 "metadata": {
  "kernelspec": {
   "display_name": "Python 3",
   "language": "python",
   "name": "python3"
  },
  "language_info": {
   "codemirror_mode": {
    "name": "ipython",
    "version": 3
   },
   "file_extension": ".py",
   "mimetype": "text/x-python",
   "name": "python",
   "nbconvert_exporter": "python",
   "pygments_lexer": "ipython3",
   "version": "3.7.1"
  }
 },
 "nbformat": 4,
 "nbformat_minor": 2
}
