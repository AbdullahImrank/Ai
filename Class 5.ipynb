{
 "cells": [
  {
   "cell_type": "code",
   "execution_count": null,
   "metadata": {},
   "outputs": [],
   "source": [
    "Permission = input(\"Ask from your mother?\\nIs she allow you to go stadium? [Haan/Na] \").upper()\n",
    "Tickets = input(\"Do you have tickets: [Haan/Na] \").upper()\n",
    "age = int(input(\"Enter your age: \"))\n",
    "\n",
    "if age >= 18 and Permission == \"HAAN\" and Tickets == \"HAAN\":\n",
    "    print(\"\\nYou are allow for the match\")\n",
    "    \n",
    "else:\n",
    "    print(\"\\nGet loss from here...\\nGo to home and watch TV..\")"
   ]
  },
  {
   "cell_type": "code",
   "execution_count": 5,
   "metadata": {},
   "outputs": [
    {
     "name": "stdout",
     "output_type": "stream",
     "text": [
      "Enter your age:5\n",
      "Sorry you are under age!!!\n",
      "You are not allow to cast your vote\n"
     ]
    }
   ],
   "source": [
    "age=int(input(\"Enter your age:\" ))\n",
    "if age >=18:\n",
    "    CNIC=input(\"DO you have your ID card right now?[Yes/No]\").upper()\n",
    "    City=input(\"ENter your city name:\")\n",
    "    if CNIC == \"YES\" and City== \"Karachi\":\n",
    "        print(\"\\nGO cast your vote. \\nHope for your positive response\")\n",
    "else:\n",
    "    print(\"Sorry you are under age!!!\\nYou are not allow to cast your vote\")\n",
    "    \n",
    "\n"
   ]
  },
  {
   "cell_type": "code",
   "execution_count": null,
   "metadata": {},
   "outputs": [],
   "source": [
    "\n",
    "\n",
    "\n"
   ]
  },
  {
   "cell_type": "code",
   "execution_count": 14,
   "metadata": {},
   "outputs": [],
   "source": [
    "mylist =[\"Karachi\", \"lhr\", \"Quta\", \"hyd\"]\n"
   ]
  },
  {
   "cell_type": "code",
   "execution_count": 15,
   "metadata": {},
   "outputs": [
    {
     "data": {
      "text/plain": [
       "'hyd'"
      ]
     },
     "execution_count": 15,
     "metadata": {},
     "output_type": "execute_result"
    }
   ],
   "source": [
    "mylist[3]"
   ]
  },
  {
   "cell_type": "code",
   "execution_count": 18,
   "metadata": {},
   "outputs": [],
   "source": [
    "#Len likhen ge to btya dega ke totallist mein kitne number hai.\n",
    "#append will always the word in the end of the list.\n",
    "#insert hum se hamesha 2 cheeze magta hai. |"
   ]
  },
  {
   "cell_type": "code",
   "execution_count": null,
   "metadata": {},
   "outputs": [],
   "source": []
  }
 ],
 "metadata": {
  "kernelspec": {
   "display_name": "Python 3",
   "language": "python",
   "name": "python3"
  },
  "language_info": {
   "codemirror_mode": {
    "name": "ipython",
    "version": 3
   },
   "file_extension": ".py",
   "mimetype": "text/x-python",
   "name": "python",
   "nbconvert_exporter": "python",
   "pygments_lexer": "ipython3",
   "version": "3.7.1"
  }
 },
 "nbformat": 4,
 "nbformat_minor": 2
}
